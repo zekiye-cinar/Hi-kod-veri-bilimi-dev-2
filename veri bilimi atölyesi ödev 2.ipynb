{
 "cells": [
  {
   "cell_type": "code",
   "execution_count": null,
   "id": "a875db3a",
   "metadata": {},
   "outputs": [],
   "source": [
    "#ödev-1\n",
    "maas = int(input(\"maaş bilginizi giriniz:\"))\n",
    "if maas < 10000:\n",
    "    kesinti = maas*5/100\n",
    "    maas = maas - kesinti \n",
    "    print(maas)\n",
    "elif maas < 25000:\n",
    "    kesinti = maas*10/100\n",
    "    maas = maas - kesinti\n",
    "    print(maas)\n",
    "elif maas < 45000:\n",
    "    kesinti = maas*25/100\n",
    "    maas = maas - kesinti\n",
    "    print(maas)\n",
    "else:\n",
    "    kesinti = maas*30/100\n",
    "    maas = maas - kesinti\n",
    "    print(maas)"
   ]
  },
  {
   "cell_type": "code",
   "execution_count": null,
   "id": "239f6228",
   "metadata": {},
   "outputs": [],
   "source": [
    "#ödev-2\n",
    "input(\"bir kullanıcı adı giriniz.\")\n",
    "sifre=input(\"bir şifre oluşturunuz.\")\n",
    "if len(sifre)==6:\n",
    "    print(\"hesabınız oluşturuldu.\")\n",
    "elif len(sifre)<6:\n",
    "    print(\"6 basamaklı bir şifre oluşturunuz!\")"
   ]
  },
  {
   "cell_type": "code",
   "execution_count": null,
   "id": "1bc964a4",
   "metadata": {},
   "outputs": [],
   "source": [
    "#ödev-3\n",
    "input(\"bir kullanıcı adı giriniz.\")\n",
    "while True:\n",
    "    sifre=input(\"bir şifre giriniz.\")\n",
    "    if 5<len(sifre)<10:\n",
    "        print(\"hesabınız oluşturuldu\")\n",
    "        break\n",
    "    else:\n",
    "        print(\"lütfen girdiğiniz şifre 5 haneden az 10 haneden fazla olmasın!\")\n",
    "        continue\n",
    "        "
   ]
  }
 ],
 "metadata": {
  "kernelspec": {
   "display_name": "Python 3 (ipykernel)",
   "language": "python",
   "name": "python3"
  },
  "language_info": {
   "codemirror_mode": {
    "name": "ipython",
    "version": 3
   },
   "file_extension": ".py",
   "mimetype": "text/x-python",
   "name": "python",
   "nbconvert_exporter": "python",
   "pygments_lexer": "ipython3",
   "version": "3.11.5"
  }
 },
 "nbformat": 4,
 "nbformat_minor": 5
}
